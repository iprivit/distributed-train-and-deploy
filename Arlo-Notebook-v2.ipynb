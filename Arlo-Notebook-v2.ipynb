{
 "cells": [
  {
   "cell_type": "markdown",
   "metadata": {},
   "source": [
    "#  Using SageMaker Image Classification with Amazon Elastic Inference\n",
    "\n",
    "1. [Introduction](#Introduction)\n",
    "2. [Prerequisites and Preprocessing](#Prequisites-and-Preprocessing)\n",
    "  1. [Permissions and environment variables](#Permissions-and-environment-variables)\n",
    "3. [Training the ResNet model](#Training-the-ResNet-model)\n",
    "4. [Deploy The Model](#Deploy-the-model)\n",
    "  1. [Create model](#Create-model)\n",
    "  3. [Real-time inference](#Real-time-inference)\n",
    "    1. [Create endpoint configuration](#Create-endpoint-configuration) \n",
    "    2. [Create endpoint](#Create-endpoint) \n",
    "    3. [Perform inference](#Perform-inference) \n",
    "    4. [Clean up](#Clean-up)\n"
   ]
  },
  {
   "cell_type": "markdown",
   "metadata": {},
   "source": [
    "## Introduction\n",
    "\n",
    "This notebook demonstrates how to enable and use Amazon Elastic Inference (EI) for real-time inference with SageMaker Image Classification algorithm.\n",
    "\n",
    "Amazon Elastic Inference (EI) is a service that provides cost-efficient hardware acceleration meant for inferences in AWS. For more information please visit: https://docs.aws.amazon.com/sagemaker/latest/dg/ei.html\n",
    "\n",
    "This notebook is an adaption of the SageMaker Image Classification's [end-to-end notebook](https://github.com/awslabs/amazon-sagemaker-examples/blob/master/introduction_to_amazon_algorithms/imageclassification_caltech/Image-classification-fulltraining-highlevel.ipynb), with modifications showing the changes needed to use EI for real-time inference with SageMaker Image Classification algorithm.\n",
    "\n",
    "In this demo, we will use the Amazon SageMaker image classification algorithm to train on the [caltech-256 dataset](http://www.vision.caltech.edu/Image_Datasets/Caltech256/). \n",
    "\n",
    "To get started, we need to set up the environment with a few prerequisite steps, for permissions, configurations, and so on."
   ]
  },
  {
   "cell_type": "markdown",
   "metadata": {},
   "source": [
    "## Prequisites and Preprocessing\n",
    "\n",
    "### Permissions and environment variables\n",
    "\n",
    "Here we set up the linkage and authentication to AWS services. There are three parts to this:\n",
    "\n",
    "* The roles used to give learning and hosting access to your data. This will automatically be obtained from the role used to start the notebook\n",
    "* The S3 bucket that you want to use for training and model data\n",
    "* The Amazon SageMaker Image Classification docker image which need not be changed"
   ]
  },
  {
   "cell_type": "code",
   "execution_count": 1,
   "metadata": {
    "tags": [
     "parameters"
    ]
   },
   "outputs": [],
   "source": [
    "import sagemaker\n",
    "from sagemaker import get_execution_role\n",
    "\n",
    "role = get_execution_role()\n",
    "sess = sagemaker.Session()\n",
    "bucket=sess.default_bucket()\n",
    "prefix = 'ic'"
   ]
  },
  {
   "cell_type": "code",
   "execution_count": 2,
   "metadata": {},
   "outputs": [],
   "source": [
    "from sagemaker.amazon.amazon_estimator import get_image_uri\n",
    "\n",
    "training_image = get_image_uri(sess.boto_region_name, 'image-classification', repo_version=\"latest\")"
   ]
  },
  {
   "cell_type": "markdown",
   "metadata": {},
   "source": [
    "### Data preparation\n",
    "Download the data and transfer to S3 for use in training. In this demo, we are using [Caltech-256](http://www.vision.caltech.edu/Image_Datasets/Caltech256/) dataset, which contains 30608 images of 256 objects. For the training and validation data, we follow the splitting scheme in this MXNet [example](https://github.com/apache/incubator-mxnet/blob/master/example/image-classification/data/caltech256.sh). In particular, it randomly selects 60 images per class for training, and uses the remaining data for validation. The algorithm takes `RecordIO` file as input. The user can also provide the image files as input, which will be converted into `RecordIO` format using MXNet's [im2rec](https://mxnet.incubator.apache.org/how_to/recordio.html?highlight=im2rec) tool. It takes around 50 seconds to convert the entire Caltech-256 dataset (~1.2GB) on a p2.xlarge instance. However, for this demo, we will use record io format. "
   ]
  },
  {
   "cell_type": "code",
   "execution_count": 3,
   "metadata": {},
   "outputs": [],
   "source": [
    "import os \n",
    "import urllib.request\n",
    "import boto3\n",
    "\n",
    "def download(url):\n",
    "    filename = url.split(\"/\")[-1]\n",
    "    if not os.path.exists(filename):\n",
    "        urllib.request.urlretrieve(url, filename)\n",
    "\n",
    "        \n",
    "def upload_to_s3(channel, file):\n",
    "    s3 = boto3.resource('s3')\n",
    "    data = open(file, \"rb\")\n",
    "    key = channel + '/' + file\n",
    "    s3.Bucket(bucket).put_object(Key=key, Body=data)\n",
    "\n",
    "\n",
    "# caltech-256\n",
    "download('http://data.mxnet.io/data/caltech-256/caltech-256-60-train.rec')\n",
    "download('http://data.mxnet.io/data/caltech-256/caltech-256-60-val.rec')"
   ]
  },
  {
   "cell_type": "code",
   "execution_count": 9,
   "metadata": {},
   "outputs": [],
   "source": [
    "# Four channels: train, validation, train_lst, and validation_lst\n",
    "s3train = 's3://{}/{}/train/'.format(bucket, prefix)\n",
    "s3validation = 's3://{}/{}/validation/'.format(bucket, prefix)\n",
    "\n",
    "# upload the lst files to train and validation channels\n",
    "!aws s3 cp caltech-256-60-train.rec $s3train --quiet\n",
    "!aws s3 cp caltech-256-60-val.rec $s3validation --quiet"
   ]
  },
  {
   "cell_type": "markdown",
   "metadata": {},
   "source": [
    "## Training the ResNet model\n",
    "\n",
    "\n",
    "\n",
    "## Training parameters\n",
    "There are two kinds of parameters that need to be set for training. The first one are the parameters for the training job. These include:\n",
    "\n",
    "https://docs.aws.amazon.com/sagemaker/latest/dg/IC-Hyperparameter.html\n",
    "\n",
    "* **num_layers**: The number of layers (depth) for the network. Valid values: For data with large image size (224x224) positive integer in [18, 34, 50, 101, 152, 200] or for data with small image size (28x28) use [20, 32, 44, 56, 110]\n",
    "* **image_shape**: The input image dimensions,'num_channels, height, width', for the network. It should be no larger than the actual image size. The number of channels should be same as the actual image.\n",
    "* **num_classes**: This is the number of output classes for the new dataset. Imagenet was trained with 1000 output classes but the number of output classes can be changed for fine-tuning. For caltech, we use 257 because it has 256 object categories + 1 clutter class.\n",
    "* **num_training_samples**: This is the total number of training samples. It is set to 15240 for caltech dataset with the current split.\n",
    "* **mini_batch_size**: The number of training samples used for each mini batch. In distributed training, the number of training samples used per batch will be N * mini_batch_size where N is the number of hosts on which training is run.\n",
    "* **epochs**: Number of training epochs.\n",
    "* **learning_rate**: Learning rate for training.\n",
    "* **top_k**: Report the top-k accuracy during training.\n",
    "* **precision_dtype**: Training datatype precision (default: float32). If set to 'float16', the training will be done in mixed_precision mode and will be faster than float32 mode\n",
    "* **use_pretrained_model**:  Flag to use pre-trained model for training. If set to 1, then the pretrained model with the corresponding number of layers is loaded and used for training. Only the top FC layer are reinitialized with random weights. Otherwise, the network is trained from scratch.\n"
   ]
  },
  {
   "cell_type": "markdown",
   "metadata": {},
   "source": [
    "## Training the model\n",
    "\n",
    "Now that we are done with all the setup that is needed, we are ready to train our object detector. To begin, let us create a ``sageMaker.estimator.Estimator`` object. This estimator will launch the training job.\n",
    "### Training parameters\n",
    "There are two kinds of parameters that need to be set for training. The first one are the parameters for the training job. These include:\n",
    "\n",
    "* **Training instance count**: This is the number of instances on which to run the training. When the number of instances is greater than one, then the image classification algorithm will run in distributed settings. ml.p3.8xlarge has 4 x Nvidia V100.  https://aws.amazon.com/sagemaker/pricing/instance-types/\n",
    "* **Training instance type**: This indicates the type of machine on which to run the training. Typically, we use GPU instances for these training \n",
    "* **Output path**: This the s3 folder in which the training output is stored"
   ]
  },
  {
   "cell_type": "code",
   "execution_count": 15,
   "metadata": {},
   "outputs": [],
   "source": [
    "s3_output_location = 's3://{}/{}/output'.format(bucket, prefix)\n",
    "num_gpu = 4\n",
    "num_instances = 1\n",
    "\n",
    "ic1 = sagemaker.estimator.Estimator(training_image,\n",
    "                                         role, \n",
    "                                         train_instance_count=num_instances, \n",
    "                                         train_instance_type='ml.p3.8xlarge', \n",
    "                                         train_volume_size = 50,\n",
    "                                         train_max_run = 360000,\n",
    "                                         input_mode= 'Pipe',\n",
    "                                         output_path=s3_output_location,\n",
    "                                         sagemaker_session=sess)"
   ]
  },
  {
   "cell_type": "code",
   "execution_count": 16,
   "metadata": {},
   "outputs": [],
   "source": [
    "ic1.set_hyperparameters(num_layers=101,\n",
    "                             image_shape = \"3,224,224\",\n",
    "                             num_classes=257,\n",
    "                             num_training_samples=15420,\n",
    "                             mini_batch_size=32 * num_instances * num_gpu,\n",
    "                             epochs=2,\n",
    "                             optimizer='adam',\n",
    "                             momentum='.9',\n",
    "                             learning_rate=0.0002,\n",
    "                             top_k=5,\n",
    "                             kv_store='dist_sync',\n",
    "                             early_stopping=False,\n",
    "                             precision_dtype='float32',\n",
    "                             use_pretrained_model=1)\n",
    "\n",
    "\n",
    "# For Adam Optmizer specific hyperparameters\n",
    "# beta_1 Default value: 0.9\n",
    "# beta_2 Default value: 0.999\n",
    "# eps    Default value:  1e-8"
   ]
  },
  {
   "cell_type": "markdown",
   "metadata": {},
   "source": [
    "## Input data specification\n",
    "Set the data type and channels used for training"
   ]
  },
  {
   "cell_type": "code",
   "execution_count": 17,
   "metadata": {},
   "outputs": [],
   "source": [
    "train_data = sagemaker.session.s3_input(s3train, distribution='FullyReplicated', \n",
    "                        content_type='application/x-recordio', s3_data_type='S3Prefix')\n",
    "\n",
    "validation_data = sagemaker.session.s3_input(s3validation, distribution='FullyReplicated', \n",
    "                             content_type='application/x-recordio', s3_data_type='S3Prefix')\n",
    "\n",
    "data_channels = {'train': train_data, 'validation': validation_data}"
   ]
  },
  {
   "cell_type": "markdown",
   "metadata": {},
   "source": [
    "# Training\n",
    "\n",
    "Start training by calling the fit method of the estimator."
   ]
  },
  {
   "cell_type": "code",
   "execution_count": 18,
   "metadata": {
    "scrolled": true
   },
   "outputs": [
    {
     "name": "stdout",
     "output_type": "stream",
     "text": [
      "2020-05-05 20:55:37 Starting - Starting the training job...\n",
      "2020-05-05 20:55:39 Starting - Launching requested ML instances......\n",
      "2020-05-05 20:56:44 Starting - Preparing the instances for training......\n",
      "2020-05-05 20:58:01 Downloading - Downloading input data...\n",
      "2020-05-05 20:58:12 Training - Downloading the training image..\n",
      "2020-05-05 20:58:52 Training - Training image download completed. Training in progress.\u001b[34mDocker entrypoint called with argument(s): train\u001b[0m\n",
      "\u001b[34m[05/05/2020 20:58:55 INFO 140368531412800] Reading default configuration from /opt/amazon/lib/python2.7/site-packages/image_classification/default-input.json: {u'beta_1': 0.9, u'gamma': 0.9, u'beta_2': 0.999, u'optimizer': u'sgd', u'use_pretrained_model': 0, u'eps': 1e-08, u'epochs': 30, u'lr_scheduler_factor': 0.1, u'num_layers': 152, u'image_shape': u'3,224,224', u'precision_dtype': u'float32', u'mini_batch_size': 32, u'weight_decay': 0.0001, u'learning_rate': 0.1, u'momentum': 0}\u001b[0m\n",
      "\u001b[34m[05/05/2020 20:58:55 INFO 140368531412800] Merging with provided configuration from /opt/ml/input/config/hyperparameters.json: {u'learning_rate': u'0.0002', u'top_k': u'5', u'optimizer': u'adam', u'image_shape': u'3,224,224', u'num_layers': u'101', u'kv_store': u'dist_sync', u'epochs': u'2', u'early_stopping': u'False', u'precision_dtype': u'float32', u'num_classes': u'257', u'mini_batch_size': u'128', u'use_pretrained_model': u'1', u'momentum': u'.9', u'num_training_samples': u'15420'}\u001b[0m\n",
      "\u001b[34m[05/05/2020 20:58:55 INFO 140368531412800] Final configuration: {u'top_k': u'5', u'optimizer': u'adam', u'learning_rate': u'0.0002', u'kv_store': u'dist_sync', u'epochs': u'2', u'lr_scheduler_factor': 0.1, u'num_layers': u'101', u'num_classes': u'257', u'precision_dtype': u'float32', u'mini_batch_size': u'128', u'early_stopping': u'False', u'beta_1': 0.9, u'beta_2': 0.999, u'use_pretrained_model': u'1', u'eps': 1e-08, u'weight_decay': 0.0001, u'momentum': u'.9', u'image_shape': u'3,224,224', u'gamma': 0.9, u'num_training_samples': u'15420'}\u001b[0m\n",
      "\u001b[34m[05/05/2020 20:58:55 INFO 140368531412800] use_pretrained_model: 1\u001b[0m\n",
      "\u001b[34m[05/05/2020 20:58:55 INFO 140368531412800] multi_label: 0\u001b[0m\n",
      "\u001b[34m[05/05/2020 20:58:55 INFO 140368531412800] Using pretrained model for initializing weights and transfer learning.\u001b[0m\n",
      "\u001b[34m[05/05/2020 20:58:55 INFO 140368531412800] ---- Parameters ----\u001b[0m\n",
      "\u001b[34m[05/05/2020 20:58:55 INFO 140368531412800] num_layers: 101\u001b[0m\n",
      "\u001b[34m[05/05/2020 20:58:55 INFO 140368531412800] data type: <type 'numpy.float32'>\u001b[0m\n",
      "\u001b[34m[05/05/2020 20:58:55 INFO 140368531412800] epochs: 2\u001b[0m\n",
      "\u001b[34m[05/05/2020 20:58:55 INFO 140368531412800] optimizer: adam\u001b[0m\n",
      "\u001b[34m[05/05/2020 20:58:55 INFO 140368531412800] beta_1: 0.9\u001b[0m\n",
      "\u001b[34m[05/05/2020 20:58:55 INFO 140368531412800] beta_2: 0.999\u001b[0m\n",
      "\u001b[34m[05/05/2020 20:58:55 INFO 140368531412800] eps: 1e-08\u001b[0m\n",
      "\u001b[34m[05/05/2020 20:58:55 INFO 140368531412800] learning_rate: 0.0002\u001b[0m\n",
      "\u001b[34m[05/05/2020 20:58:55 INFO 140368531412800] num_training_samples: 15420\u001b[0m\n",
      "\u001b[34m[05/05/2020 20:58:55 INFO 140368531412800] mini_batch_size: 128\u001b[0m\n",
      "\u001b[34m[05/05/2020 20:58:55 INFO 140368531412800] image_shape: 3,224,224\u001b[0m\n",
      "\u001b[34m[05/05/2020 20:58:55 INFO 140368531412800] num_classes: 257\u001b[0m\n",
      "\u001b[34m[05/05/2020 20:58:55 INFO 140368531412800] augmentation_type: None\u001b[0m\n",
      "\u001b[34m[05/05/2020 20:58:55 INFO 140368531412800] kv_store: device\u001b[0m\n",
      "\u001b[34m[05/05/2020 20:58:55 INFO 140368531412800] top_k: 5\u001b[0m\n",
      "\u001b[34m[05/05/2020 20:58:55 INFO 140368531412800] checkpoint_frequency not set, will store the best model\u001b[0m\n",
      "\u001b[34m[05/05/2020 20:58:55 INFO 140368531412800] --------------------\u001b[0m\n",
      "\u001b[34m[20:58:55] /opt/brazil-pkg-cache/packages/AIAlgorithmsMXNet/AIAlgorithmsMXNet-1.3.x_ecl_Cuda_10.1.x.2633.0/AL2012/generic-flavor/src/src/nnvm/legacy_json_util.cc:209: Loading symbol saved by previous version v0.8.0. Attempting to upgrade...\u001b[0m\n",
      "\u001b[34m[20:58:55] /opt/brazil-pkg-cache/packages/AIAlgorithmsMXNet/AIAlgorithmsMXNet-1.3.x_ecl_Cuda_10.1.x.2633.0/AL2012/generic-flavor/src/src/nnvm/legacy_json_util.cc:217: Symbol successfully upgraded!\u001b[0m\n",
      "\u001b[34m[05/05/2020 20:58:56 INFO 140368531412800] Setting number of threads: 31\u001b[0m\n",
      "\u001b[34m[20:59:14] /opt/brazil-pkg-cache/packages/AIAlgorithmsMXNet/AIAlgorithmsMXNet-1.3.x_ecl_Cuda_10.1.x.2633.0/AL2012/generic-flavor/src/src/operator/nn/./cudnn/./cudnn_algoreg-inl.h:97: Running performance tests to find the best convolution algorithm, this can take a while... (setting env variable MXNET_CUDNN_AUTOTUNE_DEFAULT to 0 to disable)\u001b[0m\n",
      "\u001b[34m[05/05/2020 20:59:21 INFO 140368531412800] Epoch[0] Batch [20]#011Speed: 276.746 samples/sec#011accuracy=0.171503#011top_k_accuracy_5=0.301711\u001b[0m\n",
      "\u001b[34m[05/05/2020 20:59:25 INFO 140368531412800] Epoch[0] Batch [40]#011Speed: 392.019 samples/sec#011accuracy=0.321837#011top_k_accuracy_5=0.501905\u001b[0m\n",
      "\u001b[34m[05/05/2020 20:59:29 INFO 140368531412800] Epoch[0] Batch [60]#011Speed: 455.371 samples/sec#011accuracy=0.421619#011top_k_accuracy_5=0.615266\u001b[0m\n",
      "\u001b[34m[05/05/2020 20:59:32 INFO 140368531412800] Epoch[0] Batch [80]#011Speed: 494.861 samples/sec#011accuracy=0.490451#011top_k_accuracy_5=0.680748\u001b[0m\n",
      "\u001b[34m[05/05/2020 20:59:36 INFO 140368531412800] Epoch[0] Batch [100]#011Speed: 522.557 samples/sec#011accuracy=0.532488#011top_k_accuracy_5=0.722076\u001b[0m\n",
      "\u001b[34m[05/05/2020 20:59:40 INFO 140368531412800] Epoch[0] Train-accuracy=0.562370\u001b[0m\n",
      "\u001b[34m[05/05/2020 20:59:40 INFO 140368531412800] Epoch[0] Train-top_k_accuracy_5=0.750716\u001b[0m\n",
      "\u001b[34m[05/05/2020 20:59:40 INFO 140368531412800] Epoch[0] Time cost=28.130\u001b[0m\n",
      "\u001b[34m[05/05/2020 20:59:54 INFO 140368531412800] Epoch[0] Validation-accuracy=0.760570\u001b[0m\n",
      "\u001b[34m[05/05/2020 20:59:54 INFO 140368531412800] Storing the best model with validation accuracy: 0.760570\u001b[0m\n",
      "\u001b[34m[05/05/2020 20:59:54 INFO 140368531412800] Saved checkpoint to \"/opt/ml/model/image-classification-0001.params\"\u001b[0m\n",
      "\u001b[34m[05/05/2020 20:59:58 INFO 140368531412800] Epoch[1] Batch [20]#011Speed: 648.803 samples/sec#011accuracy=0.821429#011top_k_accuracy_5=0.947917\u001b[0m\n",
      "\u001b[34m[05/05/2020 21:00:02 INFO 140368531412800] Epoch[1] Batch [40]#011Speed: 660.674 samples/sec#011accuracy=0.833460#011top_k_accuracy_5=0.956936\u001b[0m\n",
      "\u001b[34m[05/05/2020 21:00:06 INFO 140368531412800] Epoch[1] Batch [60]#011Speed: 665.068 samples/sec#011accuracy=0.853356#011top_k_accuracy_5=0.962731\u001b[0m\n",
      "\u001b[34m[05/05/2020 21:00:10 INFO 140368531412800] Epoch[1] Batch [80]#011Speed: 664.881 samples/sec#011accuracy=0.869502#011top_k_accuracy_5=0.967882\u001b[0m\n",
      "\u001b[34m[05/05/2020 21:00:13 INFO 140368531412800] Epoch[1] Batch [100]#011Speed: 666.585 samples/sec#011accuracy=0.880569#011top_k_accuracy_5=0.971303\u001b[0m\n",
      "\u001b[34m[05/05/2020 21:00:17 INFO 140368531412800] Epoch[1] Train-accuracy=0.891016\u001b[0m\n",
      "\u001b[34m[05/05/2020 21:00:17 INFO 140368531412800] Epoch[1] Train-top_k_accuracy_5=0.974674\u001b[0m\n",
      "\u001b[34m[05/05/2020 21:00:17 INFO 140368531412800] Epoch[1] Time cost=22.804\u001b[0m\n",
      "\n",
      "2020-05-05 21:00:33 Uploading - Uploading generated training model\u001b[34m[05/05/2020 21:00:29 INFO 140368531412800] Epoch[1] Validation-accuracy=0.799501\u001b[0m\n",
      "\u001b[34m[05/05/2020 21:00:30 INFO 140368531412800] Storing the best model with validation accuracy: 0.799501\u001b[0m\n",
      "\u001b[34m[05/05/2020 21:00:30 INFO 140368531412800] Saved checkpoint to \"/opt/ml/model/image-classification-0002.params\"\u001b[0m\n",
      "\n",
      "2020-05-05 21:01:01 Completed - Training job completed\n",
      "Training seconds: 180\n",
      "Billable seconds: 180\n",
      "CPU times: user 541 ms, sys: 43 ms, total: 584 ms\n",
      "Wall time: 5min 43s\n"
     ]
    }
   ],
   "source": [
    "%%time\n",
    "ic1.fit(inputs=data_channels, logs=True)"
   ]
  },
  {
   "cell_type": "markdown",
   "metadata": {},
   "source": [
    "# Managed Spot Training with MXNet\n",
    "\n",
    "For Managed Spot Training using MXNet we need to configure three things:\n",
    "1. Enable the `train_use_spot_instances` constructor arg - a simple self-explanatory boolean.\n",
    "2. Set the `train_max_wait` constructor arg - this is an int arg representing the amount of time you are willing to wait for Spot infrastructure to become available. Some instance types are harder to get at Spot prices and you may have to wait longer. You are not charged for time spent waiting for Spot infrastructure to become available, you're only charged for actual compute time spent once Spot instances have been successfully procured.\n",
    "3. Setup a `checkpoint_s3_uri` constructor arg. This arg will tell SageMaker an S3 location where to save checkpoints (assuming your algorithm has been modified to save checkpoints periodically). While not strictly necessary checkpointing is highly recommended for Manage Spot Training jobs due to the fact that Spot instances can be interrupted with short notice and using checkpoints to resume from the last interruption ensures you don't lose any progress made before the interruption.\n",
    "\n",
    "Feel free to toggle the `train_use_spot_instances` variable to see the effect of running the same job using regular (a.k.a. \"On Demand\") infrastructure.\n",
    "\n",
    "Note that `train_max_wait` can be set if and only if `train_use_spot_instances` is enabled and **must** be greater than or equal to `train_max_run`."
   ]
  },
  {
   "cell_type": "code",
   "execution_count": 55,
   "metadata": {},
   "outputs": [],
   "source": [
    "# Parameters for running Managed Spot Training\n",
    "\n",
    "train_use_spot_instances = True\n",
    "train_max_wait = 3600\n",
    "import uuid\n",
    "checkpoint_suffix = str(uuid.uuid4())[:8]\n",
    "checkpoint_s3_uri = 's3://{}/artifacts/mxnet-checkpoint-{}/'.format(bucket, checkpoint_suffix) if train_use_spot_instances else None"
   ]
  },
  {
   "cell_type": "code",
   "execution_count": 56,
   "metadata": {},
   "outputs": [],
   "source": [
    "ic1spot = sagemaker.estimator.Estimator(training_image,\n",
    "                                         role, \n",
    "                                         train_instance_count=1, \n",
    "                                         train_instance_type='ml.p3.16xlarge', \n",
    "                                         train_volume_size = 50,\n",
    "                                         train_max_run = 3600,\n",
    "                                         input_mode= 'Pipe',\n",
    "                                         output_path=s3_output_location,\n",
    "                                         sagemaker_session=sess,\n",
    "                                         train_use_spot_instances=train_use_spot_instances,\n",
    "                                         train_max_wait=train_max_wait,\n",
    "                                         checkpoint_s3_uri=checkpoint_s3_uri)"
   ]
  },
  {
   "cell_type": "code",
   "execution_count": 57,
   "metadata": {},
   "outputs": [],
   "source": [
    "ic1spot.set_hyperparameters(num_layers=101,\n",
    "                             image_shape = \"3,224,224\",\n",
    "                             num_classes=257,\n",
    "                             num_training_samples=15420,\n",
    "                             mini_batch_size=512,\n",
    "                             epochs=20,\n",
    "                             optimizer='adam',\n",
    "                             momentum='.9',\n",
    "                             learning_rate=0.0002,\n",
    "                             top_k=5,\n",
    "                             kv_store='dist_sync',\n",
    "                             early_stopping=False,\n",
    "                             precision_dtype='float32',\n",
    "                             use_pretrained_model=1)"
   ]
  },
  {
   "cell_type": "code",
   "execution_count": 58,
   "metadata": {
    "scrolled": true
   },
   "outputs": [
    {
     "name": "stdout",
     "output_type": "stream",
     "text": [
      "2020-04-22 14:01:09 Starting - Starting the training job...\n",
      "2020-04-22 14:01:11 Starting - Launching requested ML instances.........\n",
      "2020-04-22 14:02:40 Starting - Preparing the instances for training......\n",
      "2020-04-22 14:04:09 Downloading - Downloading input data\n",
      "2020-04-22 14:04:09 Training - Downloading the training image......\n",
      "2020-04-22 14:05:09 Training - Training image download completed. Training in progress..\u001b[34mDocker entrypoint called with argument(s): train\u001b[0m\n",
      "\u001b[34m[04/22/2020 14:05:13 INFO 140553515525952] Reading default configuration from /opt/amazon/lib/python2.7/site-packages/image_classification/default-input.json: {u'beta_1': 0.9, u'gamma': 0.9, u'beta_2': 0.999, u'optimizer': u'sgd', u'use_pretrained_model': 0, u'eps': 1e-08, u'epochs': 30, u'lr_scheduler_factor': 0.1, u'num_layers': 152, u'image_shape': u'3,224,224', u'precision_dtype': u'float32', u'mini_batch_size': 32, u'weight_decay': 0.0001, u'learning_rate': 0.1, u'momentum': 0}\u001b[0m\n",
      "\u001b[34m[04/22/2020 14:05:13 INFO 140553515525952] Merging with provided configuration from /opt/ml/input/config/hyperparameters.json: {u'learning_rate': u'0.0002', u'top_k': u'5', u'optimizer': u'adam', u'image_shape': u'3,224,224', u'num_layers': u'101', u'kv_store': u'dist_sync', u'epochs': u'20', u'early_stopping': u'False', u'precision_dtype': u'float32', u'num_classes': u'257', u'mini_batch_size': u'512', u'use_pretrained_model': u'1', u'momentum': u'.9', u'num_training_samples': u'15420'}\u001b[0m\n",
      "\u001b[34m[04/22/2020 14:05:13 INFO 140553515525952] Final configuration: {u'top_k': u'5', u'optimizer': u'adam', u'learning_rate': u'0.0002', u'kv_store': u'dist_sync', u'epochs': u'20', u'lr_scheduler_factor': 0.1, u'num_layers': u'101', u'num_classes': u'257', u'precision_dtype': u'float32', u'mini_batch_size': u'512', u'early_stopping': u'False', u'beta_1': 0.9, u'beta_2': 0.999, u'use_pretrained_model': u'1', u'eps': 1e-08, u'weight_decay': 0.0001, u'momentum': u'.9', u'image_shape': u'3,224,224', u'gamma': 0.9, u'num_training_samples': u'15420'}\u001b[0m\n",
      "\u001b[34m[04/22/2020 14:05:13 INFO 140553515525952] Checkpoint loading and saving are enabled.\u001b[0m\n",
      "\u001b[34m[04/22/2020 14:05:13 INFO 140553515525952] Checkpoint directories created successfully.\u001b[0m\n",
      "\u001b[34m[04/22/2020 14:05:13 INFO 140553515525952] No checkpoint hyperparameters found.\u001b[0m\n",
      "\u001b[34m[04/22/2020 14:05:13 INFO 140553515525952] Saving checkpoint hyperparameters\u001b[0m\n",
      "\u001b[34m[04/22/2020 14:05:13 INFO 140553515525952] use_pretrained_model: 1\u001b[0m\n",
      "\u001b[34m[04/22/2020 14:05:13 INFO 140553515525952] multi_label: 0\u001b[0m\n",
      "\u001b[34m[04/22/2020 14:05:13 INFO 140553515525952] Using pretrained model for initializing weights and transfer learning.\u001b[0m\n",
      "\u001b[34m[04/22/2020 14:05:13 INFO 140553515525952] ---- Parameters ----\u001b[0m\n",
      "\u001b[34m[04/22/2020 14:05:13 INFO 140553515525952] num_layers: 101\u001b[0m\n",
      "\u001b[34m[04/22/2020 14:05:13 INFO 140553515525952] data type: <type 'numpy.float32'>\u001b[0m\n",
      "\u001b[34m[04/22/2020 14:05:13 INFO 140553515525952] epochs: 20\u001b[0m\n",
      "\u001b[34m[04/22/2020 14:05:13 INFO 140553515525952] optimizer: adam\u001b[0m\n",
      "\u001b[34m[04/22/2020 14:05:13 INFO 140553515525952] beta_1: 0.9\u001b[0m\n",
      "\u001b[34m[04/22/2020 14:05:13 INFO 140553515525952] beta_2: 0.999\u001b[0m\n",
      "\u001b[34m[04/22/2020 14:05:13 INFO 140553515525952] eps: 1e-08\u001b[0m\n",
      "\u001b[34m[04/22/2020 14:05:13 INFO 140553515525952] learning_rate: 0.0002\u001b[0m\n",
      "\u001b[34m[04/22/2020 14:05:13 INFO 140553515525952] num_training_samples: 15420\u001b[0m\n",
      "\u001b[34m[04/22/2020 14:05:13 INFO 140553515525952] mini_batch_size: 512\u001b[0m\n",
      "\u001b[34m[04/22/2020 14:05:13 INFO 140553515525952] image_shape: 3,224,224\u001b[0m\n",
      "\u001b[34m[04/22/2020 14:05:13 INFO 140553515525952] num_classes: 257\u001b[0m\n",
      "\u001b[34m[04/22/2020 14:05:13 INFO 140553515525952] augmentation_type: None\u001b[0m\n",
      "\u001b[34m[04/22/2020 14:05:13 INFO 140553515525952] kv_store: device\u001b[0m\n",
      "\u001b[34m[04/22/2020 14:05:13 INFO 140553515525952] top_k: 5\u001b[0m\n",
      "\u001b[34m[04/22/2020 14:05:13 INFO 140553515525952] checkpoint_frequency not set, will store the best model\u001b[0m\n",
      "\u001b[34m[04/22/2020 14:05:13 INFO 140553515525952] --------------------\u001b[0m\n",
      "\u001b[34m[14:05:13] /opt/brazil-pkg-cache/packages/AIAlgorithmsMXNet/AIAlgorithmsMXNet-1.3.x_ecl_Cuda_10.1.x.2633.0/AL2012/generic-flavor/src/src/nnvm/legacy_json_util.cc:209: Loading symbol saved by previous version v0.8.0. Attempting to upgrade...\u001b[0m\n",
      "\u001b[34m[14:05:13] /opt/brazil-pkg-cache/packages/AIAlgorithmsMXNet/AIAlgorithmsMXNet-1.3.x_ecl_Cuda_10.1.x.2633.0/AL2012/generic-flavor/src/src/nnvm/legacy_json_util.cc:217: Symbol successfully upgraded!\u001b[0m\n",
      "\u001b[34m[04/22/2020 14:05:14 INFO 140551724709632] Checkpoint: file '/opt/ml/checkpoints/hyperparameters.json' prepared for uploading.\u001b[0m\n",
      "\u001b[34m[04/22/2020 14:05:14 INFO 140553515525952] Setting number of threads: 63\u001b[0m\n",
      "\u001b[34m[14:06:17] /opt/brazil-pkg-cache/packages/AIAlgorithmsMXNet/AIAlgorithmsMXNet-1.3.x_ecl_Cuda_10.1.x.2633.0/AL2012/generic-flavor/src/src/kvstore/././comm.h:739: only 32 out of 56 GPU pairs are enabled direct access. It may affect the performance. You can set MXNET_ENABLE_GPU_P2P=0 to turn it off\u001b[0m\n",
      "\u001b[34m[14:06:17] /opt/brazil-pkg-cache/packages/AIAlgorithmsMXNet/AIAlgorithmsMXNet-1.3.x_ecl_Cuda_10.1.x.2633.0/AL2012/generic-flavor/src/src/kvstore/././comm.h:748: .vvvv...\u001b[0m\n",
      "\u001b[34m[14:06:17] /opt/brazil-pkg-cache/packages/AIAlgorithmsMXNet/AIAlgorithmsMXNet-1.3.x_ecl_Cuda_10.1.x.2633.0/AL2012/generic-flavor/src/src/kvstore/././comm.h:748: v.vv.v..\u001b[0m\n",
      "\u001b[34m[14:06:17] /opt/brazil-pkg-cache/packages/AIAlgorithmsMXNet/AIAlgorithmsMXNet-1.3.x_ecl_Cuda_10.1.x.2633.0/AL2012/generic-flavor/src/src/kvstore/././comm.h:748: vv.v..v.\u001b[0m\n",
      "\u001b[34m[14:06:17] /opt/brazil-pkg-cache/packages/AIAlgorithmsMXNet/AIAlgorithmsMXNet-1.3.x_ecl_Cuda_10.1.x.2633.0/AL2012/generic-flavor/src/src/kvstore/././comm.h:748: vvv....v\u001b[0m\n",
      "\u001b[34m[14:06:17] /opt/brazil-pkg-cache/packages/AIAlgorithmsMXNet/AIAlgorithmsMXNet-1.3.x_ecl_Cuda_10.1.x.2633.0/AL2012/generic-flavor/src/src/kvstore/././comm.h:748: v....vvv\u001b[0m\n",
      "\u001b[34m[14:06:17] /opt/brazil-pkg-cache/packages/AIAlgorithmsMXNet/AIAlgorithmsMXNet-1.3.x_ecl_Cuda_10.1.x.2633.0/AL2012/generic-flavor/src/src/kvstore/././comm.h:748: .v..v.vv\u001b[0m\n",
      "\u001b[34m[14:06:17] /opt/brazil-pkg-cache/packages/AIAlgorithmsMXNet/AIAlgorithmsMXNet-1.3.x_ecl_Cuda_10.1.x.2633.0/AL2012/generic-flavor/src/src/kvstore/././comm.h:748: ..v.vv.v\u001b[0m\n",
      "\u001b[34m[14:06:17] /opt/brazil-pkg-cache/packages/AIAlgorithmsMXNet/AIAlgorithmsMXNet-1.3.x_ecl_Cuda_10.1.x.2633.0/AL2012/generic-flavor/src/src/kvstore/././comm.h:748: ...vvvv.\u001b[0m\n",
      "\u001b[34m[14:06:17] /opt/brazil-pkg-cache/packages/AIAlgorithmsMXNet/AIAlgorithmsMXNet-1.3.x_ecl_Cuda_10.1.x.2633.0/AL2012/generic-flavor/src/src/operator/nn/./cudnn/./cudnn_algoreg-inl.h:97: Running performance tests to find the best convolution algorithm, this can take a while... (setting env variable MXNET_CUDNN_AUTOTUNE_DEFAULT to 0 to disable)\u001b[0m\n",
      "\u001b[34m[04/22/2020 14:06:30 INFO 140553515525952] Epoch[0] Batch [20]#011Speed: 376.549 samples/sec#011accuracy=0.367839#011top_k_accuracy_5=0.542225\u001b[0m\n",
      "\u001b[34m[04/22/2020 14:06:33 INFO 140553515525952] Epoch[0] Train-accuracy=0.462240\u001b[0m\n",
      "\u001b[34m[04/22/2020 14:06:33 INFO 140553515525952] Epoch[0] Train-top_k_accuracy_5=0.643099\u001b[0m\n",
      "\u001b[34m[04/22/2020 14:06:33 INFO 140553515525952] Epoch[0] Time cost=30.250\u001b[0m\n",
      "\u001b[34m[04/22/2020 14:06:54 INFO 140553515525952] Epoch[0] Validation-accuracy=0.711654\u001b[0m\n",
      "\u001b[34m[04/22/2020 14:06:55 INFO 140553515525952] checkpoint path /tmp/checkpoint_1\u001b[0m\n",
      "\u001b[34m[04/22/2020 14:06:55 INFO 140553515525952] Saved checkpoint to \"/tmp/checkpoint_1/checkpoint-0000.params\"\u001b[0m\n",
      "\u001b[34m[04/22/2020 14:06:55 INFO 140553515525952] Storing the best model with validation accuracy: 0.711654\u001b[0m\n",
      "\u001b[34m[04/22/2020 14:06:55 INFO 140551724709632] Checkpoint: file '/opt/ml/checkpoints/checkpoint_1/metadata.json' prepared for uploading.\u001b[0m\n",
      "\u001b[34m[04/22/2020 14:06:55 INFO 140551724709632] Checkpoint: file '/opt/ml/checkpoints/checkpoint_1/model-shapes.json' prepared for uploading.\u001b[0m\n",
      "\u001b[34m[04/22/2020 14:06:55 INFO 140551724709632] Checkpoint: file '/opt/ml/checkpoints/checkpoint_1/checkpoint-symbol.json' prepared for uploading.\u001b[0m\n",
      "\u001b[34m[04/22/2020 14:06:55 INFO 140551724709632] Checkpoint: file '/opt/ml/checkpoints/checkpoint_1/checkpoint-0000.params' prepared for uploading.\u001b[0m\n",
      "\u001b[34m[04/22/2020 14:06:55 INFO 140553515525952] Saved checkpoint to \"/opt/ml/model/image-classification-0001.params\"\u001b[0m\n",
      "\u001b[34m[04/22/2020 14:07:03 INFO 140553515525952] Epoch[1] Batch [20]#011Speed: 1406.508 samples/sec#011accuracy=0.859747#011top_k_accuracy_5=0.966146\u001b[0m\n",
      "\u001b[34m[04/22/2020 14:07:06 INFO 140553515525952] Epoch[1] Train-accuracy=0.877214\u001b[0m\n",
      "\u001b[34m[04/22/2020 14:07:06 INFO 140553515525952] Epoch[1] Train-top_k_accuracy_5=0.970508\u001b[0m\n",
      "\u001b[34m[04/22/2020 14:07:06 INFO 140553515525952] Epoch[1] Time cost=10.387\u001b[0m\n",
      "\u001b[34m[04/22/2020 14:07:15 INFO 140553515525952] Epoch[1] Validation-accuracy=0.808724\u001b[0m\n",
      "\u001b[34m[04/22/2020 14:07:16 INFO 140553515525952] checkpoint path /tmp/checkpoint_2\u001b[0m\n",
      "\u001b[34m[04/22/2020 14:07:16 INFO 140553515525952] Saved checkpoint to \"/tmp/checkpoint_2/checkpoint-0000.params\"\u001b[0m\n",
      "\u001b[34m[04/22/2020 14:07:16 INFO 140553515525952] Storing the best model with validation accuracy: 0.808724\u001b[0m\n",
      "\u001b[34m[04/22/2020 14:07:16 INFO 140553515525952] Saved checkpoint to \"/opt/ml/model/image-classification-0002.params\"\u001b[0m\n",
      "\u001b[34m[04/22/2020 14:07:16 INFO 140551724709632] Checkpoint: file '/opt/ml/checkpoints/checkpoint_2/metadata.json' prepared for uploading.\u001b[0m\n",
      "\u001b[34m[04/22/2020 14:07:16 INFO 140551724709632] Checkpoint: file '/opt/ml/checkpoints/checkpoint_2/model-shapes.json' prepared for uploading.\u001b[0m\n",
      "\u001b[34m[04/22/2020 14:07:16 INFO 140551724709632] Checkpoint: file '/opt/ml/checkpoints/checkpoint_2/checkpoint-symbol.json' prepared for uploading.\u001b[0m\n",
      "\u001b[34m[04/22/2020 14:07:17 INFO 140551724709632] Checkpoint: file '/opt/ml/checkpoints/checkpoint_2/checkpoint-0000.params' prepared for uploading.\u001b[0m\n",
      "\u001b[34m[04/22/2020 14:07:23 INFO 140553515525952] Epoch[2] Batch [20]#011Speed: 1419.675 samples/sec#011accuracy=0.972191#011top_k_accuracy_5=0.995164\u001b[0m\n",
      "\u001b[34m[04/22/2020 14:07:26 INFO 140553515525952] Epoch[2] Train-accuracy=0.977083\u001b[0m\n",
      "\u001b[34m[04/22/2020 14:07:26 INFO 140553515525952] Epoch[2] Train-top_k_accuracy_5=0.996354\u001b[0m\n",
      "\u001b[34m[04/22/2020 14:07:26 INFO 140553515525952] Epoch[2] Time cost=10.292\u001b[0m\n",
      "\u001b[34m[04/22/2020 14:07:36 INFO 140553515525952] Epoch[2] Validation-accuracy=0.815039\u001b[0m\n",
      "\u001b[34m[04/22/2020 14:07:36 INFO 140553515525952] checkpoint path /tmp/checkpoint_3\u001b[0m\n",
      "\u001b[34m[04/22/2020 14:07:37 INFO 140553515525952] Saved checkpoint to \"/tmp/checkpoint_3/checkpoint-0000.params\"\u001b[0m\n",
      "\u001b[34m[04/22/2020 14:07:37 INFO 140553515525952] Storing the best model with validation accuracy: 0.815039\u001b[0m\n",
      "\u001b[34m[04/22/2020 14:07:37 INFO 140551724709632] Checkpoint: file '/opt/ml/checkpoints/checkpoint_3/metadata.json' prepared for uploading.\u001b[0m\n",
      "\u001b[34m[04/22/2020 14:07:37 INFO 140551724709632] Checkpoint: file '/opt/ml/checkpoints/checkpoint_3/model-shapes.json' prepared for uploading.\u001b[0m\n",
      "\u001b[34m[04/22/2020 14:07:37 INFO 140551724709632] Checkpoint: file '/opt/ml/checkpoints/checkpoint_3/checkpoint-symbol.json' prepared for uploading.\u001b[0m\n",
      "\u001b[34m[04/22/2020 14:07:37 INFO 140553515525952] Saved checkpoint to \"/opt/ml/model/image-classification-0003.params\"\u001b[0m\n",
      "\u001b[34m[04/22/2020 14:07:37 INFO 140551724709632] Checkpoint: file '/opt/ml/checkpoints/checkpoint_3/checkpoint-0000.params' prepared for uploading.\u001b[0m\n",
      "\u001b[34m[04/22/2020 14:07:44 INFO 140553515525952] Epoch[3] Batch [20]#011Speed: 1416.552 samples/sec#011accuracy=0.997396#011top_k_accuracy_5=0.999349\u001b[0m\n",
      "\u001b[34m[04/22/2020 14:07:47 INFO 140553515525952] Epoch[3] Train-accuracy=0.997786\u001b[0m\n",
      "\u001b[34m[04/22/2020 14:07:47 INFO 140553515525952] Epoch[3] Train-top_k_accuracy_5=0.999479\u001b[0m\n",
      "\u001b[34m[04/22/2020 14:07:47 INFO 140553515525952] Epoch[3] Time cost=10.294\u001b[0m\n",
      "\u001b[34m[04/22/2020 14:07:56 INFO 140553515525952] Epoch[3] Validation-accuracy=0.830013\u001b[0m\n",
      "\u001b[34m[04/22/2020 14:07:57 INFO 140553515525952] checkpoint path /tmp/checkpoint_1\u001b[0m\n",
      "\u001b[34m[04/22/2020 14:07:57 INFO 140553515525952] Saved checkpoint to \"/tmp/checkpoint_1/checkpoint-0000.params\"\u001b[0m\n",
      "\u001b[34m[04/22/2020 14:07:57 INFO 140553515525952] Storing the best model with validation accuracy: 0.830013\u001b[0m\n",
      "\u001b[34m[04/22/2020 14:07:58 INFO 140553515525952] Saved checkpoint to \"/opt/ml/model/image-classification-0004.params\"\u001b[0m\n",
      "\u001b[34m[04/22/2020 14:07:58 INFO 140551724709632] Checkpoint: file '/opt/ml/checkpoints/checkpoint_1/metadata.json' prepared for uploading.\u001b[0m\n",
      "\u001b[34m[04/22/2020 14:07:58 INFO 140551724709632] Checkpoint: file '/opt/ml/checkpoints/checkpoint_1/model-shapes.json' prepared for uploading.\u001b[0m\n",
      "\u001b[34m[04/22/2020 14:07:58 INFO 140551724709632] Checkpoint: file '/opt/ml/checkpoints/checkpoint_1/checkpoint-symbol.json' prepared for uploading.\u001b[0m\n",
      "\u001b[34m[04/22/2020 14:07:58 INFO 140551724709632] Checkpoint: file '/opt/ml/checkpoints/checkpoint_1/checkpoint-0000.params' prepared for uploading.\u001b[0m\n",
      "\u001b[34m[04/22/2020 14:08:05 INFO 140553515525952] Epoch[4] Batch [20]#011Speed: 1411.605 samples/sec#011accuracy=0.999628#011top_k_accuracy_5=1.000000\u001b[0m\n",
      "\u001b[34m[04/22/2020 14:08:08 INFO 140553515525952] Epoch[4] Train-accuracy=0.999414\u001b[0m\n",
      "\u001b[34m[04/22/2020 14:08:08 INFO 140553515525952] Epoch[4] Train-top_k_accuracy_5=1.000000\u001b[0m\n",
      "\u001b[34m[04/22/2020 14:08:08 INFO 140553515525952] Epoch[4] Time cost=10.348\u001b[0m\n",
      "\u001b[34m[04/22/2020 14:08:17 INFO 140553515525952] Epoch[4] Validation-accuracy=0.837240\u001b[0m\n",
      "\u001b[34m[04/22/2020 14:08:18 INFO 140553515525952] checkpoint path /tmp/checkpoint_2\u001b[0m\n",
      "\u001b[34m[04/22/2020 14:08:18 INFO 140553515525952] Saved checkpoint to \"/tmp/checkpoint_2/checkpoint-0000.params\"\u001b[0m\n",
      "\u001b[34m[04/22/2020 14:08:18 INFO 140553515525952] Storing the best model with validation accuracy: 0.837240\u001b[0m\n",
      "\u001b[34m[04/22/2020 14:08:18 INFO 140553515525952] Saved checkpoint to \"/opt/ml/model/image-classification-0005.params\"\u001b[0m\n",
      "\u001b[34m[04/22/2020 14:08:18 INFO 140551724709632] Checkpoint: file '/opt/ml/checkpoints/checkpoint_2/metadata.json' prepared for uploading.\u001b[0m\n",
      "\u001b[34m[04/22/2020 14:08:18 INFO 140551724709632] Checkpoint: file '/opt/ml/checkpoints/checkpoint_2/model-shapes.json' prepared for uploading.\u001b[0m\n",
      "\u001b[34m[04/22/2020 14:08:18 INFO 140551724709632] Checkpoint: file '/opt/ml/checkpoints/checkpoint_2/checkpoint-symbol.json' prepared for uploading.\u001b[0m\n",
      "\u001b[34m[04/22/2020 14:08:19 INFO 140551724709632] Checkpoint: file '/opt/ml/checkpoints/checkpoint_2/checkpoint-0000.params' prepared for uploading.\u001b[0m\n",
      "\u001b[34m[04/22/2020 14:08:25 INFO 140553515525952] Epoch[5] Batch [20]#011Speed: 1422.938 samples/sec#011accuracy=0.998512#011top_k_accuracy_5=1.000000\u001b[0m\n",
      "\u001b[34m[04/22/2020 14:08:28 INFO 140553515525952] Epoch[5] Train-accuracy=0.998893\u001b[0m\n",
      "\u001b[34m[04/22/2020 14:08:28 INFO 140553515525952] Epoch[5] Train-top_k_accuracy_5=1.000000\u001b[0m\n",
      "\u001b[34m[04/22/2020 14:08:28 INFO 140553515525952] Epoch[5] Time cost=10.241\u001b[0m\n",
      "\u001b[34m[04/22/2020 14:08:38 INFO 140553515525952] Epoch[5] Validation-accuracy=0.833073\u001b[0m\n",
      "\u001b[34m[04/22/2020 14:08:38 INFO 140553515525952] checkpoint path /tmp/checkpoint_3\u001b[0m\n",
      "\u001b[34m[04/22/2020 14:08:38 INFO 140553515525952] Saved checkpoint to \"/tmp/checkpoint_3/checkpoint-0000.params\"\u001b[0m\n",
      "\u001b[34m[04/22/2020 14:08:39 INFO 140551724709632] Checkpoint: file '/opt/ml/checkpoints/checkpoint_3/metadata.json' prepared for uploading.\u001b[0m\n",
      "\u001b[34m[04/22/2020 14:08:39 INFO 140551724709632] Checkpoint: file '/opt/ml/checkpoints/checkpoint_3/model-shapes.json' prepared for uploading.\u001b[0m\n",
      "\u001b[34m[04/22/2020 14:08:39 INFO 140551724709632] Checkpoint: file '/opt/ml/checkpoints/checkpoint_3/checkpoint-symbol.json' prepared for uploading.\u001b[0m\n",
      "\u001b[34m[04/22/2020 14:08:39 INFO 140551724709632] Checkpoint: file '/opt/ml/checkpoints/checkpoint_3/checkpoint-0000.params' prepared for uploading.\u001b[0m\n",
      "\u001b[34m[04/22/2020 14:08:46 INFO 140553515525952] Epoch[6] Batch [20]#011Speed: 1431.468 samples/sec#011accuracy=0.998512#011top_k_accuracy_5=0.999907\u001b[0m\n",
      "\u001b[34m[04/22/2020 14:08:49 INFO 140553515525952] Epoch[6] Train-accuracy=0.998763\u001b[0m\n",
      "\u001b[34m[04/22/2020 14:08:49 INFO 140553515525952] Epoch[6] Train-top_k_accuracy_5=0.999935\u001b[0m\n",
      "\u001b[34m[04/22/2020 14:08:49 INFO 140553515525952] Epoch[6] Time cost=10.213\u001b[0m\n",
      "\u001b[34m[04/22/2020 14:08:58 INFO 140553515525952] Epoch[6] Validation-accuracy=0.829297\u001b[0m\n",
      "\u001b[34m[04/22/2020 14:08:59 INFO 140553515525952] checkpoint path /tmp/checkpoint_1\u001b[0m\n",
      "\u001b[34m[04/22/2020 14:08:59 INFO 140553515525952] Saved checkpoint to \"/tmp/checkpoint_1/checkpoint-0000.params\"\u001b[0m\n",
      "\u001b[34m[04/22/2020 14:08:59 INFO 140551724709632] Checkpoint: file '/opt/ml/checkpoints/checkpoint_1/metadata.json' prepared for uploading.\u001b[0m\n",
      "\u001b[34m[04/22/2020 14:08:59 INFO 140551724709632] Checkpoint: file '/opt/ml/checkpoints/checkpoint_1/model-shapes.json' prepared for uploading.\u001b[0m\n",
      "\u001b[34m[04/22/2020 14:08:59 INFO 140551724709632] Checkpoint: file '/opt/ml/checkpoints/checkpoint_1/checkpoint-symbol.json' prepared for uploading.\u001b[0m\n",
      "\u001b[34m[04/22/2020 14:08:59 INFO 140551724709632] Checkpoint: file '/opt/ml/checkpoints/checkpoint_1/checkpoint-0000.params' prepared for uploading.\u001b[0m\n",
      "\u001b[34m[04/22/2020 14:09:06 INFO 140553515525952] Epoch[7] Batch [20]#011Speed: 1421.356 samples/sec#011accuracy=0.998977#011top_k_accuracy_5=1.000000\u001b[0m\n",
      "\u001b[34m[04/22/2020 14:09:09 INFO 140553515525952] Epoch[7] Train-accuracy=0.998763\u001b[0m\n",
      "\u001b[34m[04/22/2020 14:09:09 INFO 140553515525952] Epoch[7] Train-top_k_accuracy_5=1.000000\u001b[0m\n",
      "\u001b[34m[04/22/2020 14:09:09 INFO 140553515525952] Epoch[7] Time cost=10.270\u001b[0m\n",
      "\u001b[34m[04/22/2020 14:09:19 INFO 140553515525952] Epoch[7] Validation-accuracy=0.832617\u001b[0m\n",
      "\u001b[34m[04/22/2020 14:09:19 INFO 140553515525952] checkpoint path /tmp/checkpoint_3\u001b[0m\n",
      "\u001b[34m[04/22/2020 14:09:19 INFO 140553515525952] Saved checkpoint to \"/tmp/checkpoint_3/checkpoint-0000.params\"\u001b[0m\n",
      "\u001b[34m[04/22/2020 14:09:20 INFO 140551724709632] Checkpoint: file '/opt/ml/checkpoints/checkpoint_3/metadata.json' prepared for uploading.\u001b[0m\n",
      "\u001b[34m[04/22/2020 14:09:20 INFO 140551724709632] Checkpoint: file '/opt/ml/checkpoints/checkpoint_3/model-shapes.json' prepared for uploading.\u001b[0m\n",
      "\u001b[34m[04/22/2020 14:09:20 INFO 140551724709632] Checkpoint: file '/opt/ml/checkpoints/checkpoint_3/checkpoint-symbol.json' prepared for uploading.\u001b[0m\n",
      "\u001b[34m[04/22/2020 14:09:21 INFO 140551724709632] Checkpoint: file '/opt/ml/checkpoints/checkpoint_3/checkpoint-0000.params' prepared for uploading.\u001b[0m\n",
      "\u001b[34m[04/22/2020 14:09:27 INFO 140553515525952] Epoch[8] Batch [20]#011Speed: 1427.086 samples/sec#011accuracy=0.999163#011top_k_accuracy_5=1.000000\u001b[0m\n",
      "\u001b[34m[04/22/2020 14:09:30 INFO 140553515525952] Epoch[8] Train-accuracy=0.999284\u001b[0m\n",
      "\u001b[34m[04/22/2020 14:09:30 INFO 140553515525952] Epoch[8] Train-top_k_accuracy_5=1.000000\u001b[0m\n",
      "\u001b[34m[04/22/2020 14:09:30 INFO 140553515525952] Epoch[8] Time cost=10.232\u001b[0m\n",
      "\u001b[34m[04/22/2020 14:09:39 INFO 140553515525952] Epoch[8] Validation-accuracy=0.831250\u001b[0m\n",
      "\u001b[34m[04/22/2020 14:09:40 INFO 140553515525952] checkpoint path /tmp/checkpoint_1\u001b[0m\n",
      "\u001b[34m[04/22/2020 14:09:40 INFO 140553515525952] Saved checkpoint to \"/tmp/checkpoint_1/checkpoint-0000.params\"\u001b[0m\n",
      "\u001b[34m[04/22/2020 14:09:41 INFO 140551724709632] Checkpoint: file '/opt/ml/checkpoints/checkpoint_1/metadata.json' prepared for uploading.\u001b[0m\n",
      "\u001b[34m[04/22/2020 14:09:41 INFO 140551724709632] Checkpoint: file '/opt/ml/checkpoints/checkpoint_1/model-shapes.json' prepared for uploading.\u001b[0m\n",
      "\u001b[34m[04/22/2020 14:09:41 INFO 140551724709632] Checkpoint: file '/opt/ml/checkpoints/checkpoint_1/checkpoint-symbol.json' prepared for uploading.\u001b[0m\n",
      "\u001b[34m[04/22/2020 14:09:41 INFO 140551724709632] Checkpoint: file '/opt/ml/checkpoints/checkpoint_1/checkpoint-0000.params' prepared for uploading.\u001b[0m\n",
      "\u001b[34m[04/22/2020 14:09:47 INFO 140553515525952] Epoch[9] Batch [20]#011Speed: 1411.437 samples/sec#011accuracy=0.999349#011top_k_accuracy_5=1.000000\u001b[0m\n",
      "\u001b[34m[04/22/2020 14:09:50 INFO 140553515525952] Epoch[9] Train-accuracy=0.999544\u001b[0m\n",
      "\u001b[34m[04/22/2020 14:09:50 INFO 140553515525952] Epoch[9] Train-top_k_accuracy_5=1.000000\u001b[0m\n",
      "\u001b[34m[04/22/2020 14:09:50 INFO 140553515525952] Epoch[9] Time cost=10.302\u001b[0m\n",
      "\u001b[34m[04/22/2020 14:10:00 INFO 140553515525952] Epoch[9] Validation-accuracy=0.837435\u001b[0m\n",
      "\u001b[34m[04/22/2020 14:10:00 INFO 140553515525952] checkpoint path /tmp/checkpoint_2\u001b[0m\n",
      "\u001b[34m[04/22/2020 14:10:00 INFO 140553515525952] Saved checkpoint to \"/tmp/checkpoint_2/checkpoint-0000.params\"\u001b[0m\n",
      "\u001b[34m[04/22/2020 14:10:00 INFO 140553515525952] Storing the best model with validation accuracy: 0.837435\u001b[0m\n",
      "\u001b[34m[04/22/2020 14:10:01 INFO 140553515525952] Saved checkpoint to \"/opt/ml/model/image-classification-0010.params\"\u001b[0m\n",
      "\u001b[34m[04/22/2020 14:10:01 INFO 140551724709632] Checkpoint: file '/opt/ml/checkpoints/checkpoint_2/metadata.json' prepared for uploading.\u001b[0m\n",
      "\u001b[34m[04/22/2020 14:10:01 INFO 140551724709632] Checkpoint: file '/opt/ml/checkpoints/checkpoint_2/model-shapes.json' prepared for uploading.\u001b[0m\n",
      "\u001b[34m[04/22/2020 14:10:01 INFO 140551724709632] Checkpoint: file '/opt/ml/checkpoints/checkpoint_2/checkpoint-symbol.json' prepared for uploading.\u001b[0m\n",
      "\u001b[34m[04/22/2020 14:10:01 INFO 140551724709632] Checkpoint: file '/opt/ml/checkpoints/checkpoint_2/checkpoint-0000.params' prepared for uploading.\u001b[0m\n",
      "\u001b[34m[04/22/2020 14:10:08 INFO 140553515525952] Epoch[10] Batch [20]#011Speed: 1417.693 samples/sec#011accuracy=0.999907#011top_k_accuracy_5=1.000000\u001b[0m\n",
      "\u001b[34m[04/22/2020 14:10:11 INFO 140553515525952] Epoch[10] Train-accuracy=0.999935\u001b[0m\n",
      "\u001b[34m[04/22/2020 14:10:11 INFO 140553515525952] Epoch[10] Train-top_k_accuracy_5=1.000000\u001b[0m\n",
      "\u001b[34m[04/22/2020 14:10:11 INFO 140553515525952] Epoch[10] Time cost=10.322\u001b[0m\n",
      "\u001b[34m[04/22/2020 14:10:20 INFO 140553515525952] Epoch[10] Validation-accuracy=0.837695\u001b[0m\n",
      "\u001b[34m[04/22/2020 14:10:21 INFO 140553515525952] checkpoint path /tmp/checkpoint_3\u001b[0m\n",
      "\u001b[34m[04/22/2020 14:10:21 INFO 140553515525952] Saved checkpoint to \"/tmp/checkpoint_3/checkpoint-0000.params\"\u001b[0m\n",
      "\u001b[34m[04/22/2020 14:10:21 INFO 140553515525952] Storing the best model with validation accuracy: 0.837695\u001b[0m\n",
      "\u001b[34m[04/22/2020 14:10:21 INFO 140551724709632] Checkpoint: file '/opt/ml/checkpoints/checkpoint_3/metadata.json' prepared for uploading.\u001b[0m\n",
      "\u001b[34m[04/22/2020 14:10:21 INFO 140551724709632] Checkpoint: file '/opt/ml/checkpoints/checkpoint_3/model-shapes.json' prepared for uploading.\u001b[0m\n",
      "\u001b[34m[04/22/2020 14:10:21 INFO 140551724709632] Checkpoint: file '/opt/ml/checkpoints/checkpoint_3/checkpoint-symbol.json' prepared for uploading.\u001b[0m\n",
      "\u001b[34m[04/22/2020 14:10:21 INFO 140553515525952] Saved checkpoint to \"/opt/ml/model/image-classification-0011.params\"\u001b[0m\n",
      "\u001b[34m[04/22/2020 14:10:21 INFO 140551724709632] Checkpoint: file '/opt/ml/checkpoints/checkpoint_3/checkpoint-0000.params' prepared for uploading.\u001b[0m\n",
      "\u001b[34m[04/22/2020 14:10:29 INFO 140553515525952] Epoch[11] Batch [20]#011Speed: 1420.235 samples/sec#011accuracy=1.000000#011top_k_accuracy_5=1.000000\u001b[0m\n",
      "\u001b[34m[04/22/2020 14:10:32 INFO 140553515525952] Epoch[11] Train-accuracy=1.000000\u001b[0m\n",
      "\u001b[34m[04/22/2020 14:10:32 INFO 140553515525952] Epoch[11] Train-top_k_accuracy_5=1.000000\u001b[0m\n",
      "\u001b[34m[04/22/2020 14:10:32 INFO 140553515525952] Epoch[11] Time cost=10.282\u001b[0m\n",
      "\u001b[34m[04/22/2020 14:10:41 INFO 140553515525952] Epoch[11] Validation-accuracy=0.838086\u001b[0m\n",
      "\u001b[34m[04/22/2020 14:10:41 INFO 140553515525952] checkpoint path /tmp/checkpoint_1\u001b[0m\n",
      "\u001b[34m[04/22/2020 14:10:42 INFO 140553515525952] Saved checkpoint to \"/tmp/checkpoint_1/checkpoint-0000.params\"\u001b[0m\n",
      "\u001b[34m[04/22/2020 14:10:42 INFO 140553515525952] Storing the best model with validation accuracy: 0.838086\u001b[0m\n",
      "\u001b[34m[04/22/2020 14:10:42 INFO 140551724709632] Checkpoint: file '/opt/ml/checkpoints/checkpoint_1/metadata.json' prepared for uploading.\u001b[0m\n",
      "\u001b[34m[04/22/2020 14:10:42 INFO 140551724709632] Checkpoint: file '/opt/ml/checkpoints/checkpoint_1/model-shapes.json' prepared for uploading.\u001b[0m\n",
      "\u001b[34m[04/22/2020 14:10:42 INFO 140551724709632] Checkpoint: file '/opt/ml/checkpoints/checkpoint_1/checkpoint-symbol.json' prepared for uploading.\u001b[0m\n",
      "\u001b[34m[04/22/2020 14:10:42 INFO 140553515525952] Saved checkpoint to \"/opt/ml/model/image-classification-0012.params\"\u001b[0m\n",
      "\u001b[34m[04/22/2020 14:10:42 INFO 140551724709632] Checkpoint: file '/opt/ml/checkpoints/checkpoint_1/checkpoint-0000.params' prepared for uploading.\u001b[0m\n",
      "\u001b[34m[04/22/2020 14:10:49 INFO 140553515525952] Epoch[12] Batch [20]#011Speed: 1419.787 samples/sec#011accuracy=1.000000#011top_k_accuracy_5=1.000000\u001b[0m\n",
      "\u001b[34m[04/22/2020 14:10:52 INFO 140553515525952] Epoch[12] Train-accuracy=1.000000\u001b[0m\n",
      "\u001b[34m[04/22/2020 14:10:52 INFO 140553515525952] Epoch[12] Train-top_k_accuracy_5=1.000000\u001b[0m\n",
      "\u001b[34m[04/22/2020 14:10:52 INFO 140553515525952] Epoch[12] Time cost=10.289\u001b[0m\n",
      "\u001b[34m[04/22/2020 14:11:01 INFO 140553515525952] Epoch[12] Validation-accuracy=0.839258\u001b[0m\n",
      "\u001b[34m[04/22/2020 14:11:02 INFO 140553515525952] checkpoint path /tmp/checkpoint_2\u001b[0m\n",
      "\u001b[34m[04/22/2020 14:11:02 INFO 140553515525952] Saved checkpoint to \"/tmp/checkpoint_2/checkpoint-0000.params\"\u001b[0m\n",
      "\u001b[34m[04/22/2020 14:11:02 INFO 140553515525952] Storing the best model with validation accuracy: 0.839258\u001b[0m\n",
      "\u001b[34m[04/22/2020 14:11:03 INFO 140553515525952] Saved checkpoint to \"/opt/ml/model/image-classification-0013.params\"\u001b[0m\n",
      "\u001b[34m[04/22/2020 14:11:03 INFO 140551724709632] Checkpoint: file '/opt/ml/checkpoints/checkpoint_2/metadata.json' prepared for uploading.\u001b[0m\n",
      "\u001b[34m[04/22/2020 14:11:03 INFO 140551724709632] Checkpoint: file '/opt/ml/checkpoints/checkpoint_2/model-shapes.json' prepared for uploading.\u001b[0m\n",
      "\u001b[34m[04/22/2020 14:11:03 INFO 140551724709632] Checkpoint: file '/opt/ml/checkpoints/checkpoint_2/checkpoint-symbol.json' prepared for uploading.\u001b[0m\n",
      "\u001b[34m[04/22/2020 14:11:03 INFO 140551724709632] Checkpoint: file '/opt/ml/checkpoints/checkpoint_2/checkpoint-0000.params' prepared for uploading.\u001b[0m\n",
      "\u001b[34m[04/22/2020 14:11:10 INFO 140553515525952] Epoch[13] Batch [20]#011Speed: 1421.905 samples/sec#011accuracy=1.000000#011top_k_accuracy_5=1.000000\u001b[0m\n",
      "\u001b[34m[04/22/2020 14:11:13 INFO 140553515525952] Epoch[13] Train-accuracy=1.000000\u001b[0m\n",
      "\u001b[34m[04/22/2020 14:11:13 INFO 140553515525952] Epoch[13] Train-top_k_accuracy_5=1.000000\u001b[0m\n",
      "\u001b[34m[04/22/2020 14:11:13 INFO 140553515525952] Epoch[13] Time cost=10.276\u001b[0m\n",
      "\u001b[34m[04/22/2020 14:11:22 INFO 140553515525952] Epoch[13] Validation-accuracy=0.840104\u001b[0m\n",
      "\u001b[34m[04/22/2020 14:11:23 INFO 140553515525952] checkpoint path /tmp/checkpoint_3\u001b[0m\n",
      "\u001b[34m[04/22/2020 14:11:23 INFO 140553515525952] Saved checkpoint to \"/tmp/checkpoint_3/checkpoint-0000.params\"\u001b[0m\n",
      "\u001b[34m[04/22/2020 14:11:23 INFO 140553515525952] Storing the best model with validation accuracy: 0.840104\u001b[0m\n",
      "\u001b[34m[04/22/2020 14:11:23 INFO 140553515525952] Saved checkpoint to \"/opt/ml/model/image-classification-0014.params\"\u001b[0m\n",
      "\u001b[34m[04/22/2020 14:11:23 INFO 140551724709632] Checkpoint: file '/opt/ml/checkpoints/checkpoint_3/metadata.json' prepared for uploading.\u001b[0m\n",
      "\u001b[34m[04/22/2020 14:11:23 INFO 140551724709632] Checkpoint: file '/opt/ml/checkpoints/checkpoint_3/model-shapes.json' prepared for uploading.\u001b[0m\n",
      "\u001b[34m[04/22/2020 14:11:23 INFO 140551724709632] Checkpoint: file '/opt/ml/checkpoints/checkpoint_3/checkpoint-symbol.json' prepared for uploading.\u001b[0m\n",
      "\u001b[34m[04/22/2020 14:11:24 INFO 140551724709632] Checkpoint: file '/opt/ml/checkpoints/checkpoint_3/checkpoint-0000.params' prepared for uploading.\u001b[0m\n",
      "\u001b[34m[04/22/2020 14:11:31 INFO 140553515525952] Epoch[14] Batch [20]#011Speed: 1409.416 samples/sec#011accuracy=1.000000#011top_k_accuracy_5=1.000000\u001b[0m\n",
      "\u001b[34m[04/22/2020 14:11:34 INFO 140553515525952] Epoch[14] Train-accuracy=1.000000\u001b[0m\n",
      "\u001b[34m[04/22/2020 14:11:34 INFO 140553515525952] Epoch[14] Train-top_k_accuracy_5=1.000000\u001b[0m\n",
      "\u001b[34m[04/22/2020 14:11:34 INFO 140553515525952] Epoch[14] Time cost=10.332\u001b[0m\n",
      "\u001b[34m[04/22/2020 14:11:43 INFO 140553515525952] Epoch[14] Validation-accuracy=0.839323\u001b[0m\n",
      "\u001b[34m[04/22/2020 14:11:43 INFO 140553515525952] checkpoint path /tmp/checkpoint_1\u001b[0m\n",
      "\u001b[34m[04/22/2020 14:11:44 INFO 140553515525952] Saved checkpoint to \"/tmp/checkpoint_1/checkpoint-0000.params\"\u001b[0m\n",
      "\u001b[34m[04/22/2020 14:11:44 INFO 140551724709632] Checkpoint: file '/opt/ml/checkpoints/checkpoint_1/metadata.json' prepared for uploading.\u001b[0m\n",
      "\u001b[34m[04/22/2020 14:11:44 INFO 140551724709632] Checkpoint: file '/opt/ml/checkpoints/checkpoint_1/model-shapes.json' prepared for uploading.\u001b[0m\n",
      "\u001b[34m[04/22/2020 14:11:44 INFO 140551724709632] Checkpoint: file '/opt/ml/checkpoints/checkpoint_1/checkpoint-symbol.json' prepared for uploading.\u001b[0m\n",
      "\u001b[34m[04/22/2020 14:11:44 INFO 140551724709632] Checkpoint: file '/opt/ml/checkpoints/checkpoint_1/checkpoint-0000.params' prepared for uploading.\u001b[0m\n",
      "\u001b[34m[04/22/2020 14:11:51 INFO 140553515525952] Epoch[15] Batch [20]#011Speed: 1431.331 samples/sec#011accuracy=1.000000#011top_k_accuracy_5=1.000000\u001b[0m\n",
      "\u001b[34m[04/22/2020 14:11:54 INFO 140553515525952] Epoch[15] Train-accuracy=1.000000\u001b[0m\n",
      "\u001b[34m[04/22/2020 14:11:54 INFO 140553515525952] Epoch[15] Train-top_k_accuracy_5=1.000000\u001b[0m\n",
      "\u001b[34m[04/22/2020 14:11:54 INFO 140553515525952] Epoch[15] Time cost=10.206\u001b[0m\n",
      "\u001b[34m[04/22/2020 14:12:03 INFO 140553515525952] Epoch[15] Validation-accuracy=0.840625\u001b[0m\n",
      "\u001b[34m[04/22/2020 14:12:04 INFO 140553515525952] checkpoint path /tmp/checkpoint_2\u001b[0m\n",
      "\u001b[34m[04/22/2020 14:12:04 INFO 140553515525952] Saved checkpoint to \"/tmp/checkpoint_2/checkpoint-0000.params\"\u001b[0m\n",
      "\u001b[34m[04/22/2020 14:12:04 INFO 140553515525952] Storing the best model with validation accuracy: 0.840625\u001b[0m\n",
      "\u001b[34m[04/22/2020 14:12:04 INFO 140551724709632] Checkpoint: file '/opt/ml/checkpoints/checkpoint_2/metadata.json' prepared for uploading.\u001b[0m\n",
      "\u001b[34m[04/22/2020 14:12:04 INFO 140551724709632] Checkpoint: file '/opt/ml/checkpoints/checkpoint_2/model-shapes.json' prepared for uploading.\u001b[0m\n",
      "\u001b[34m[04/22/2020 14:12:04 INFO 140551724709632] Checkpoint: file '/opt/ml/checkpoints/checkpoint_2/checkpoint-symbol.json' prepared for uploading.\u001b[0m\n",
      "\u001b[34m[04/22/2020 14:12:04 INFO 140553515525952] Saved checkpoint to \"/opt/ml/model/image-classification-0016.params\"\u001b[0m\n",
      "\u001b[34m[04/22/2020 14:12:04 INFO 140551724709632] Checkpoint: file '/opt/ml/checkpoints/checkpoint_2/checkpoint-0000.params' prepared for uploading.\u001b[0m\n",
      "\u001b[34m[04/22/2020 14:12:11 INFO 140553515525952] Epoch[16] Batch [20]#011Speed: 1422.983 samples/sec#011accuracy=1.000000#011top_k_accuracy_5=1.000000\u001b[0m\n",
      "\u001b[34m[04/22/2020 14:12:15 INFO 140553515525952] Epoch[16] Train-accuracy=1.000000\u001b[0m\n",
      "\u001b[34m[04/22/2020 14:12:15 INFO 140553515525952] Epoch[16] Train-top_k_accuracy_5=1.000000\u001b[0m\n",
      "\u001b[34m[04/22/2020 14:12:15 INFO 140553515525952] Epoch[16] Time cost=10.255\u001b[0m\n",
      "\u001b[34m[04/22/2020 14:12:24 INFO 140553515525952] Epoch[16] Validation-accuracy=0.839974\u001b[0m\n",
      "\u001b[34m[04/22/2020 14:12:24 INFO 140553515525952] checkpoint path /tmp/checkpoint_3\u001b[0m\n",
      "\u001b[34m[04/22/2020 14:12:25 INFO 140553515525952] Saved checkpoint to \"/tmp/checkpoint_3/checkpoint-0000.params\"\u001b[0m\n",
      "\u001b[34m[04/22/2020 14:12:25 INFO 140551724709632] Checkpoint: file '/opt/ml/checkpoints/checkpoint_3/metadata.json' prepared for uploading.\u001b[0m\n",
      "\u001b[34m[04/22/2020 14:12:25 INFO 140551724709632] Checkpoint: file '/opt/ml/checkpoints/checkpoint_3/model-shapes.json' prepared for uploading.\u001b[0m\n",
      "\u001b[34m[04/22/2020 14:12:25 INFO 140551724709632] Checkpoint: file '/opt/ml/checkpoints/checkpoint_3/checkpoint-symbol.json' prepared for uploading.\u001b[0m\n",
      "\u001b[34m[04/22/2020 14:12:26 INFO 140551724709632] Checkpoint: file '/opt/ml/checkpoints/checkpoint_3/checkpoint-0000.params' prepared for uploading.\u001b[0m\n",
      "\u001b[34m[04/22/2020 14:12:32 INFO 140553515525952] Epoch[17] Batch [20]#011Speed: 1417.976 samples/sec#011accuracy=1.000000#011top_k_accuracy_5=1.000000\u001b[0m\n",
      "\u001b[34m[04/22/2020 14:12:35 INFO 140553515525952] Epoch[17] Train-accuracy=1.000000\u001b[0m\n",
      "\u001b[34m[04/22/2020 14:12:35 INFO 140553515525952] Epoch[17] Train-top_k_accuracy_5=1.000000\u001b[0m\n",
      "\u001b[34m[04/22/2020 14:12:35 INFO 140553515525952] Epoch[17] Time cost=10.281\u001b[0m\n",
      "\u001b[34m[04/22/2020 14:12:44 INFO 140553515525952] Epoch[17] Validation-accuracy=0.840039\u001b[0m\n",
      "\u001b[34m[04/22/2020 14:12:45 INFO 140553515525952] checkpoint path /tmp/checkpoint_1\u001b[0m\n",
      "\u001b[34m[04/22/2020 14:12:45 INFO 140553515525952] Saved checkpoint to \"/tmp/checkpoint_1/checkpoint-0000.params\"\u001b[0m\n",
      "\u001b[34m[04/22/2020 14:12:46 INFO 140551724709632] Checkpoint: file '/opt/ml/checkpoints/checkpoint_1/metadata.json' prepared for uploading.\u001b[0m\n",
      "\u001b[34m[04/22/2020 14:12:46 INFO 140551724709632] Checkpoint: file '/opt/ml/checkpoints/checkpoint_1/model-shapes.json' prepared for uploading.\u001b[0m\n",
      "\u001b[34m[04/22/2020 14:12:46 INFO 140551724709632] Checkpoint: file '/opt/ml/checkpoints/checkpoint_1/checkpoint-symbol.json' prepared for uploading.\u001b[0m\n",
      "\u001b[34m[04/22/2020 14:12:46 INFO 140551724709632] Checkpoint: file '/opt/ml/checkpoints/checkpoint_1/checkpoint-0000.params' prepared for uploading.\u001b[0m\n",
      "\u001b[34m[04/22/2020 14:12:52 INFO 140553515525952] Epoch[18] Batch [20]#011Speed: 1424.201 samples/sec#011accuracy=1.000000#011top_k_accuracy_5=1.000000\u001b[0m\n",
      "\u001b[34m[04/22/2020 14:12:55 INFO 140553515525952] Epoch[18] Train-accuracy=1.000000\u001b[0m\n",
      "\u001b[34m[04/22/2020 14:12:55 INFO 140553515525952] Epoch[18] Train-top_k_accuracy_5=1.000000\u001b[0m\n",
      "\u001b[34m[04/22/2020 14:12:55 INFO 140553515525952] Epoch[18] Time cost=10.265\u001b[0m\n",
      "\u001b[34m[04/22/2020 14:13:04 INFO 140553515525952] Epoch[18] Validation-accuracy=0.840495\u001b[0m\n",
      "\u001b[34m[04/22/2020 14:13:05 INFO 140553515525952] checkpoint path /tmp/checkpoint_3\u001b[0m\n",
      "\u001b[34m[04/22/2020 14:13:05 INFO 140553515525952] Saved checkpoint to \"/tmp/checkpoint_3/checkpoint-0000.params\"\u001b[0m\n",
      "\u001b[34m[04/22/2020 14:13:06 INFO 140551724709632] Checkpoint: file '/opt/ml/checkpoints/checkpoint_3/metadata.json' prepared for uploading.\u001b[0m\n",
      "\u001b[34m[04/22/2020 14:13:06 INFO 140551724709632] Checkpoint: file '/opt/ml/checkpoints/checkpoint_3/model-shapes.json' prepared for uploading.\u001b[0m\n",
      "\u001b[34m[04/22/2020 14:13:06 INFO 140551724709632] Checkpoint: file '/opt/ml/checkpoints/checkpoint_3/checkpoint-symbol.json' prepared for uploading.\u001b[0m\n",
      "\u001b[34m[04/22/2020 14:13:06 INFO 140551724709632] Checkpoint: file '/opt/ml/checkpoints/checkpoint_3/checkpoint-0000.params' prepared for uploading.\u001b[0m\n",
      "\u001b[34m[04/22/2020 14:13:13 INFO 140553515525952] Epoch[19] Batch [20]#011Speed: 1416.555 samples/sec#011accuracy=1.000000#011top_k_accuracy_5=1.000000\u001b[0m\n",
      "\u001b[34m[04/22/2020 14:13:16 INFO 140553515525952] Epoch[19] Train-accuracy=1.000000\u001b[0m\n",
      "\u001b[34m[04/22/2020 14:13:16 INFO 140553515525952] Epoch[19] Train-top_k_accuracy_5=1.000000\u001b[0m\n",
      "\u001b[34m[04/22/2020 14:13:16 INFO 140553515525952] Epoch[19] Time cost=10.321\u001b[0m\n",
      "\u001b[34m[04/22/2020 14:13:25 INFO 140553515525952] Epoch[19] Validation-accuracy=0.841146\u001b[0m\n",
      "\u001b[34m[04/22/2020 14:13:26 INFO 140553515525952] checkpoint path /tmp/checkpoint_1\u001b[0m\n",
      "\u001b[34m[04/22/2020 14:13:26 INFO 140553515525952] Saved checkpoint to \"/tmp/checkpoint_1/checkpoint-0000.params\"\u001b[0m\n",
      "\u001b[34m[04/22/2020 14:13:26 INFO 140553515525952] Storing the best model with validation accuracy: 0.841146\u001b[0m\n",
      "\u001b[34m[04/22/2020 14:13:26 INFO 140553515525952] Saved checkpoint to \"/opt/ml/model/image-classification-0020.params\"\u001b[0m\n",
      "\u001b[34m[04/22/2020 14:13:26 INFO 140551724709632] Checkpoint: file '/opt/ml/checkpoints/checkpoint_1/metadata.json' prepared for uploading.\u001b[0m\n",
      "\u001b[34m[04/22/2020 14:13:26 INFO 140551724709632] Checkpoint: file '/opt/ml/checkpoints/checkpoint_1/model-shapes.json' prepared for uploading.\u001b[0m\n",
      "\u001b[34m[04/22/2020 14:13:26 INFO 140551724709632] Checkpoint: file '/opt/ml/checkpoints/checkpoint_1/checkpoint-symbol.json' prepared for uploading.\u001b[0m\n",
      "\u001b[34m[04/22/2020 14:13:26 INFO 140553515525952] Terminating checkpoint state checker.\u001b[0m\n",
      "\u001b[34m[04/22/2020 14:13:27 INFO 140551724709632] Checkpoint: file '/opt/ml/checkpoints/checkpoint_1/checkpoint-0000.params' prepared for uploading.\u001b[0m\n",
      "\u001b[34m[04/22/2020 14:13:27 INFO 140553515525952] Checkpoint state checker terminated.\u001b[0m\n",
      "\n",
      "2020-04-22 14:13:34 Uploading - Uploading generated training model\n",
      "2020-04-22 14:14:01 Completed - Training job completed\n",
      "Training seconds: 609\n",
      "Billable seconds: 183\n",
      "Managed Spot Training savings: 70.0%\n",
      "CPU times: user 1.29 s, sys: 75.9 ms, total: 1.37 s\n",
      "Wall time: 13min 16s\n"
     ]
    }
   ],
   "source": [
    "%%time\n",
    "ic1spot.fit(inputs=data_channels, logs=True)"
   ]
  },
  {
   "cell_type": "markdown",
   "metadata": {},
   "source": [
    "# Savings\n",
    "Towards the end of the job you should see two lines of output printed:\n",
    "\n",
    "- `Training seconds: X` : This is the actual compute-time your training job spent\n",
    "- `Billable seconds: Y` : This is the time you will be billed for after Spot discounting is applied.\n",
    "\n",
    "If you enabled the `train_use_spot_instances` var then you should see a notable difference between `X` and `Y` signifying the cost savings you will get for having chosen Managed Spot Training. This should be reflected in an additional line:\n",
    "- `Managed Spot Training savings: (1-Y/X)*100 %`"
   ]
  },
  {
   "cell_type": "markdown",
   "metadata": {},
   "source": [
    "# Deploy The Model\n",
    "\n",
    "***\n",
    "\n",
    "A trained model does nothing on its own. We now want to use the model to perform inference. For this example, that means predicting the topic mixture representing a given document. \n",
    "\n",
    "This section involves several steps,\n",
    "\n",
    "1. [Create Model](#CreateModel) - Create model for the training output\n",
    "1. [Host the model for real-time inference with EI](#HostTheModel) - Create an inference with EI and perform real-time inference using EI."
   ]
  },
  {
   "cell_type": "markdown",
   "metadata": {},
   "source": [
    "## Create Model\n",
    "\n",
    "We now create a SageMaker Model from the training output. Using the model we will create an Endpoint Configuration to start an endpoint for real-time inference."
   ]
  },
  {
   "cell_type": "code",
   "execution_count": 59,
   "metadata": {},
   "outputs": [
    {
     "name": "stdout",
     "output_type": "stream",
     "text": [
      "---------------!"
     ]
    }
   ],
   "source": [
    "ic1_classifier = ic1.deploy(initial_instance_count = 2,\n",
    "                          instance_type = 'ml.p3.2xlarge')"
   ]
  },
  {
   "cell_type": "code",
   "execution_count": 106,
   "metadata": {},
   "outputs": [
    {
     "name": "stderr",
     "output_type": "stream",
     "text": [
      "Using already existing model: image-classification-2020-04-22-14-01-09-209\n"
     ]
    },
    {
     "name": "stdout",
     "output_type": "stream",
     "text": [
      "---------------!"
     ]
    }
   ],
   "source": [
    "iceia_classifier = ic1spot.deploy(initial_instance_count = 2,\n",
    "                             instance_type = 'ml.m5.large',\n",
    "                             accelerator_type = 'ml.eia2.medium')"
   ]
  },
  {
   "cell_type": "code",
   "execution_count": 64,
   "metadata": {},
   "outputs": [
    {
     "name": "stdout",
     "output_type": "stream",
     "text": [
      "--2020-04-22 14:47:49--  http://www.vision.caltech.edu/Image_Datasets/Caltech256/images/080.frog/080_0001.jpg\n",
      "Resolving www.vision.caltech.edu (www.vision.caltech.edu)... 34.208.54.77\n",
      "Connecting to www.vision.caltech.edu (www.vision.caltech.edu)|34.208.54.77|:80... connected.\n",
      "HTTP request sent, awaiting response... 200 OK\n",
      "Length: 51453 (50K) [image/jpeg]\n",
      "Saving to: ‘/tmp/test-1.jpg’\n",
      "\n",
      "/tmp/test-1.jpg     100%[===================>]  50.25K  --.-KB/s    in 0.1s    \n",
      "\n",
      "2020-04-22 14:47:50 (366 KB/s) - ‘/tmp/test-1.jpg’ saved [51453/51453]\n",
      "\n",
      "--2020-04-22 14:47:50--  http://www.vision.caltech.edu/Image_Datasets/Caltech256/images/002.american-flag/002_0004.jpg\n",
      "Resolving www.vision.caltech.edu (www.vision.caltech.edu)... 34.208.54.77\n",
      "Connecting to www.vision.caltech.edu (www.vision.caltech.edu)|34.208.54.77|:80... connected.\n",
      "HTTP request sent, awaiting response... 200 OK\n",
      "Length: 11343 (11K) [image/jpeg]\n",
      "Saving to: ‘/tmp/test-2.jpg’\n",
      "\n",
      "/tmp/test-2.jpg     100%[===================>]  11.08K  --.-KB/s    in 0s      \n",
      "\n",
      "2020-04-22 14:47:50 (226 MB/s) - ‘/tmp/test-2.jpg’ saved [11343/11343]\n",
      "\n",
      "--2020-04-22 14:47:50--  http://www.vision.caltech.edu/Image_Datasets/Caltech256/images/037.chess-board/037_0006.jpg\n",
      "Resolving www.vision.caltech.edu (www.vision.caltech.edu)... 34.208.54.77\n",
      "Connecting to www.vision.caltech.edu (www.vision.caltech.edu)|34.208.54.77|:80... connected.\n",
      "HTTP request sent, awaiting response... 200 OK\n",
      "Length: 16773 (16K) [image/jpeg]\n",
      "Saving to: ‘/tmp/test-3.jpg’\n",
      "\n",
      "/tmp/test-3.jpg     100%[===================>]  16.38K  --.-KB/s    in 0.07s   \n",
      "\n",
      "2020-04-22 14:47:50 (237 KB/s) - ‘/tmp/test-3.jpg’ saved [16773/16773]\n",
      "\n",
      "--2020-04-22 14:47:50--  http://www.vision.caltech.edu/Image_Datasets/Caltech256/images/086.golden-gate-bridge/086_0010.jpg\n",
      "Resolving www.vision.caltech.edu (www.vision.caltech.edu)... 34.208.54.77\n",
      "Connecting to www.vision.caltech.edu (www.vision.caltech.edu)|34.208.54.77|:80... connected.\n",
      "HTTP request sent, awaiting response... 200 OK\n",
      "Length: 17725 (17K) [image/jpeg]\n",
      "Saving to: ‘/tmp/test-4.jpg’\n",
      "\n",
      "/tmp/test-4.jpg     100%[===================>]  17.31K  --.-KB/s    in 0.07s   \n",
      "\n",
      "2020-04-22 14:47:51 (246 KB/s) - ‘/tmp/test-4.jpg’ saved [17725/17725]\n",
      "\n"
     ]
    }
   ],
   "source": [
    "!wget -O /tmp/test-1.jpg http://www.vision.caltech.edu/Image_Datasets/Caltech256/images/080.frog/080_0001.jpg\n",
    "!wget -O /tmp/test-2.jpg http://www.vision.caltech.edu/Image_Datasets/Caltech256/images/002.american-flag/002_0004.jpg\n",
    "!wget -O /tmp/test-3.jpg http://www.vision.caltech.edu/Image_Datasets/Caltech256/images/037.chess-board/037_0006.jpg\n",
    "!wget -O /tmp/test-4.jpg http://www.vision.caltech.edu/Image_Datasets/Caltech256/images/086.golden-gate-bridge/086_0010.jpg"
   ]
  },
  {
   "cell_type": "code",
   "execution_count": 110,
   "metadata": {},
   "outputs": [
    {
     "data": {
      "image/jpeg": "[encoded data removed]",
      "text/plain": [
       "<IPython.core.display.Image object>"
      ]
     },
     "execution_count": 110,
     "metadata": {},
     "output_type": "execute_result"
    }
   ],
   "source": [
    "file_name1 = '/tmp/test-1.jpg'\n",
    "file_name2 = '/tmp/test-2.jpg'\n",
    "file_name3 = '/tmp/test-3.jpg'\n",
    "file_name4 = '/tmp/test-4.jpg'\n",
    "# test image\n",
    "from IPython.display import Image\n",
    "Image(file_name1)  "
   ]
  },
  {
   "cell_type": "markdown",
   "metadata": {},
   "source": [
    "## Inference using our Training Model\n",
    "\n",
    "Evaluate the image through the network for inteference. The network outputs class probabilities and typically, one selects the class with the maximum probability as the final class output.\n",
    "\n",
    "**Note:** The output class detected by the network may not be accurate in this example. To limit the time taken and cost of training, we have trained the model only for 5 epochs. If the network is trained for more epochs (say 20), then the output class will be more accurate."
   ]
  },
  {
   "cell_type": "code",
   "execution_count": 115,
   "metadata": {},
   "outputs": [],
   "source": [
    "import json\n",
    "import numpy as np\n",
    "\n",
    "with open(file_name1, 'rb') as f:\n",
    "    payload = f.read()\n",
    "    payload = bytearray(payload)\n",
    "    \n",
    "ic1_classifier.content_type = 'application/x-image'\n",
    "iceia_classifier.content_type = 'application/x-image'"
   ]
  },
  {
   "cell_type": "code",
   "execution_count": 116,
   "metadata": {},
   "outputs": [
    {
     "name": "stdout",
     "output_type": "stream",
     "text": [
      "CPU times: user 0 ns, sys: 4.14 ms, total: 4.14 ms\n",
      "Wall time: 32.1 ms\n"
     ]
    }
   ],
   "source": [
    "%%time\n",
    "result_ic1 = json.loads(ic1_classifier.predict(payload))"
   ]
  },
  {
   "cell_type": "code",
   "execution_count": 117,
   "metadata": {},
   "outputs": [
    {
     "name": "stdout",
     "output_type": "stream",
     "text": [
      "CPU times: user 4.09 ms, sys: 246 µs, total: 4.34 ms\n",
      "Wall time: 1.3 s\n"
     ]
    }
   ],
   "source": [
    "%%time\n",
    "result_iceia = json.loads(iceia_classifier.predict(payload))"
   ]
  },
  {
   "cell_type": "code",
   "execution_count": 118,
   "metadata": {},
   "outputs": [
    {
     "name": "stdout",
     "output_type": "stream",
     "text": [
      "Result: label - frog, probability - 0.6461054682731628\n",
      "Result: label - frog, probability - 0.9669410586357117\n"
     ]
    }
   ],
   "source": [
    "# the result will output the probabilities for all classes\n",
    "# find the class with maximum probability and print the class index\n",
    "index1 = np.argmax(result_ic1)\n",
    "indexeia = np.argmax(result_iceia)\n",
    "\n",
    "object_categories = ['ak47', 'american-flag', 'backpack', 'baseball-bat', 'baseball-glove', 'basketball-hoop', 'bat', 'bathtub', 'bear', 'beer-mug', 'billiards', 'binoculars', 'birdbath', 'blimp', 'bonsai-101', 'boom-box', 'bowling-ball', 'bowling-pin', 'boxing-glove', 'brain-101', 'breadmaker', 'buddha-101', 'bulldozer', 'butterfly', 'cactus', 'cake', 'calculator', 'camel', 'cannon', 'canoe', 'car-tire', 'cartman', 'cd', 'centipede', 'cereal-box', 'chandelier-101', 'chess-board', 'chimp', 'chopsticks', 'cockroach', 'coffee-mug', 'coffin', 'coin', 'comet', 'computer-keyboard', 'computer-monitor', 'computer-mouse', 'conch', 'cormorant', 'covered-wagon', 'cowboy-hat', 'crab-101', 'desk-globe', 'diamond-ring', 'dice', 'dog', 'dolphin-101', 'doorknob', 'drinking-straw', 'duck', 'dumb-bell', 'eiffel-tower', 'electric-guitar-101', 'elephant-101', 'elk', 'ewer-101', 'eyeglasses', 'fern', 'fighter-jet', 'fire-extinguisher', 'fire-hydrant', 'fire-truck', 'fireworks', 'flashlight', 'floppy-disk', 'football-helmet', 'french-horn', 'fried-egg', 'frisbee', 'frog', 'frying-pan', 'galaxy', 'gas-pump', 'giraffe', 'goat', 'golden-gate-bridge', 'goldfish', 'golf-ball', 'goose', 'gorilla', 'grand-piano-101', 'grapes', 'grasshopper', 'guitar-pick', 'hamburger', 'hammock', 'harmonica', 'harp', 'harpsichord', 'hawksbill-101', 'head-phones', 'helicopter-101', 'hibiscus', 'homer-simpson', 'horse', 'horseshoe-crab', 'hot-air-balloon', 'hot-dog', 'hot-tub', 'hourglass', 'house-fly', 'human-skeleton', 'hummingbird', 'ibis-101', 'ice-cream-cone', 'iguana', 'ipod', 'iris', 'jesus-christ', 'joy-stick', 'kangaroo-101', 'kayak', 'ketch-101', 'killer-whale', 'knife', 'ladder', 'laptop-101', 'lathe', 'leopards-101', 'license-plate', 'lightbulb', 'light-house', 'lightning', 'llama-101', 'mailbox', 'mandolin', 'mars', 'mattress', 'megaphone', 'menorah-101', 'microscope', 'microwave', 'minaret', 'minotaur', 'motorbikes-101', 'mountain-bike', 'mushroom', 'mussels', 'necktie', 'octopus', 'ostrich', 'owl', 'palm-pilot', 'palm-tree', 'paperclip', 'paper-shredder', 'pci-card', 'penguin', 'people', 'pez-dispenser', 'photocopier', 'picnic-table', 'playing-card', 'porcupine', 'pram', 'praying-mantis', 'pyramid', 'raccoon', 'radio-telescope', 'rainbow', 'refrigerator', 'revolver-101', 'rifle', 'rotary-phone', 'roulette-wheel', 'saddle', 'saturn', 'school-bus', 'scorpion-101', 'screwdriver', 'segway', 'self-propelled-lawn-mower', 'sextant', 'sheet-music', 'skateboard', 'skunk', 'skyscraper', 'smokestack', 'snail', 'snake', 'sneaker', 'snowmobile', 'soccer-ball', 'socks', 'soda-can', 'spaghetti', 'speed-boat', 'spider', 'spoon', 'stained-glass', 'starfish-101', 'steering-wheel', 'stirrups', 'sunflower-101', 'superman', 'sushi', 'swan', 'swiss-army-knife', 'sword', 'syringe', 'tambourine', 'teapot', 'teddy-bear', 'teepee', 'telephone-box', 'tennis-ball', 'tennis-court', 'tennis-racket', 'theodolite', 'toaster', 'tomato', 'tombstone', 'top-hat', 'touring-bike', 'tower-pisa', 'traffic-light', 'treadmill', 'triceratops', 'tricycle', 'trilobite-101', 'tripod', 't-shirt', 'tuning-fork', 'tweezer', 'umbrella-101', 'unicorn', 'vcr', 'video-projector', 'washing-machine', 'watch-101', 'waterfall', 'watermelon', 'welding-mask', 'wheelbarrow', 'windmill', 'wine-bottle', 'xylophone', 'yarmulke', 'yo-yo', 'zebra', 'airplanes-101', 'car-side-101', 'faces-easy-101', 'greyhound', 'tennis-shoes', 'toad', 'clutter']\n",
    "\n",
    "print(\"Result: label - \" + object_categories[index1] + \", probability - \" + str(result_ic1[index1]))\n",
    "print(\"Result: label - \" + object_categories[indexeia] + \", probability - \" + str(result_iceia[indexeia]))"
   ]
  },
  {
   "cell_type": "code",
   "execution_count": null,
   "metadata": {},
   "outputs": [],
   "source": []
  }
 ],
 "metadata": {
  "celltoolbar": "Tags",
  "kernelspec": {
   "display_name": "conda_mxnet_p36",
   "language": "python",
   "name": "conda_mxnet_p36"
  },
  "language_info": {
   "codemirror_mode": {
    "name": "ipython",
    "version": 3
   },
   "file_extension": ".py",
   "mimetype": "text/x-python",
   "name": "python",
   "nbconvert_exporter": "python",
   "pygments_lexer": "ipython3",
   "version": "3.6.5"
  }
 },
 "nbformat": 4,
 "nbformat_minor": 4
}
